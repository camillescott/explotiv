{
 "cells": [
  {
   "cell_type": "markdown",
   "metadata": {
    "slideshow": {
     "slide_type": "slide"
    }
   },
   "source": [
    "---\n",
    "# *explotiv* de novo transcriptome explorer\n",
    "### Mar 16, 2016 \n",
    "-----\n",
    "#### Camille Scott\n",
    "#### Lab for Data Intensive Biology\n",
    "#### UC Davis\n",
    "---"
   ]
  },
  {
   "cell_type": "markdown",
   "metadata": {
    "slideshow": {
     "slide_type": "slide"
    }
   },
   "source": [
    "---\n",
    "\n",
    "## Sample Sunburst Plots\n",
    "\n",
    "* *explotiv*'s primary output\n",
    "* These convey the \"affinity\" of a collection of transcripts for all clades in a base tree\n",
    "* Color is scaled 0.0-1.0 based on the affinity score\n",
    "\n",
    "---"
   ]
  },
  {
   "cell_type": "markdown",
   "metadata": {
    "slideshow": {
     "slide_type": "slide"
    }
   },
   "source": [
    "---\n",
    "### Calculating Scores\n",
    "\n",
    "* We start with a mapping between transcripts and proteins\n",
    "* Each transcript will likely map to many proteins\n",
    "* The protein databaes are currated, and provide a species mapping\n",
    "\n",
    "---"
   ]
  },
  {
   "cell_type": "code",
   "execution_count": 1,
   "metadata": {
    "collapsed": true,
    "slideshow": {
     "slide_type": "subslide"
    }
   },
   "outputs": [],
   "source": [
    "from dammit.fileio import maf\n",
    "import pandas as pd\n",
    "\n",
    "aln_df = pd.concat(maf.MafParser('/Users/camille/w/scratch/explotiv-data/lamprey.500.fa.dammit/lamprey.500.fa.x.orthodb.maf'))"
   ]
  },
  {
   "cell_type": "code",
   "execution_count": 3,
   "metadata": {
    "collapsed": false,
    "slideshow": {
     "slide_type": "fragment"
    }
   },
   "outputs": [
    {
     "data": {
      "text/html": [
       "<div>\n",
       "<table border=\"1\" class=\"dataframe\">\n",
       "  <thead>\n",
       "    <tr style=\"text-align: right;\">\n",
       "      <th></th>\n",
       "      <th>E</th>\n",
       "      <th>EG2</th>\n",
       "      <th>q_aln_len</th>\n",
       "      <th>q_len</th>\n",
       "      <th>q_name</th>\n",
       "      <th>q_start</th>\n",
       "      <th>q_strand</th>\n",
       "      <th>s_aln_len</th>\n",
       "      <th>s_len</th>\n",
       "      <th>s_name</th>\n",
       "      <th>s_start</th>\n",
       "      <th>s_strand</th>\n",
       "      <th>score</th>\n",
       "      <th>bitscore</th>\n",
       "    </tr>\n",
       "  </thead>\n",
       "  <tbody>\n",
       "    <tr>\n",
       "      <th>700</th>\n",
       "      <td>2.000000e-32</td>\n",
       "      <td>3.600000e-26</td>\n",
       "      <td>288</td>\n",
       "      <td>528</td>\n",
       "      <td>Transcript_102</td>\n",
       "      <td>4</td>\n",
       "      <td>+</td>\n",
       "      <td>96</td>\n",
       "      <td>296</td>\n",
       "      <td>ASIS016320-PA</td>\n",
       "      <td>199</td>\n",
       "      <td>+</td>\n",
       "      <td>269</td>\n",
       "      <td>144.316791</td>\n",
       "    </tr>\n",
       "    <tr>\n",
       "      <th>717</th>\n",
       "      <td>4.300000e-06</td>\n",
       "      <td>2.600000e+00</td>\n",
       "      <td>66</td>\n",
       "      <td>528</td>\n",
       "      <td>Transcript_102</td>\n",
       "      <td>461</td>\n",
       "      <td>-</td>\n",
       "      <td>22</td>\n",
       "      <td>388</td>\n",
       "      <td>ADAC009551-PA</td>\n",
       "      <td>0</td>\n",
       "      <td>+</td>\n",
       "      <td>106</td>\n",
       "      <td>58.425095</td>\n",
       "    </tr>\n",
       "    <tr>\n",
       "      <th>716</th>\n",
       "      <td>2.800000e-31</td>\n",
       "      <td>4.600000e-25</td>\n",
       "      <td>297</td>\n",
       "      <td>528</td>\n",
       "      <td>Transcript_102</td>\n",
       "      <td>230</td>\n",
       "      <td>-</td>\n",
       "      <td>106</td>\n",
       "      <td>503</td>\n",
       "      <td>AGAP003997-PB</td>\n",
       "      <td>88</td>\n",
       "      <td>+</td>\n",
       "      <td>262</td>\n",
       "      <td>140.628191</td>\n",
       "    </tr>\n",
       "    <tr>\n",
       "      <th>715</th>\n",
       "      <td>2.800000e-31</td>\n",
       "      <td>4.600000e-25</td>\n",
       "      <td>297</td>\n",
       "      <td>528</td>\n",
       "      <td>Transcript_102</td>\n",
       "      <td>230</td>\n",
       "      <td>-</td>\n",
       "      <td>106</td>\n",
       "      <td>435</td>\n",
       "      <td>AFAF019329-PA</td>\n",
       "      <td>14</td>\n",
       "      <td>+</td>\n",
       "      <td>262</td>\n",
       "      <td>140.628191</td>\n",
       "    </tr>\n",
       "    <tr>\n",
       "      <th>714</th>\n",
       "      <td>4.800000e-36</td>\n",
       "      <td>1.200000e-29</td>\n",
       "      <td>294</td>\n",
       "      <td>528</td>\n",
       "      <td>Transcript_102</td>\n",
       "      <td>230</td>\n",
       "      <td>-</td>\n",
       "      <td>99</td>\n",
       "      <td>393</td>\n",
       "      <td>TCOGS2:TC005606-PA</td>\n",
       "      <td>11</td>\n",
       "      <td>+</td>\n",
       "      <td>291</td>\n",
       "      <td>155.909535</td>\n",
       "    </tr>\n",
       "  </tbody>\n",
       "</table>\n",
       "</div>"
      ],
      "text/plain": [
       "                E           EG2  q_aln_len  q_len          q_name  q_start  \\\n",
       "700  2.000000e-32  3.600000e-26        288    528  Transcript_102        4   \n",
       "717  4.300000e-06  2.600000e+00         66    528  Transcript_102      461   \n",
       "716  2.800000e-31  4.600000e-25        297    528  Transcript_102      230   \n",
       "715  2.800000e-31  4.600000e-25        297    528  Transcript_102      230   \n",
       "714  4.800000e-36  1.200000e-29        294    528  Transcript_102      230   \n",
       "\n",
       "    q_strand  s_aln_len  s_len              s_name  s_start s_strand  score  \\\n",
       "700        +         96    296       ASIS016320-PA      199        +    269   \n",
       "717        -         22    388       ADAC009551-PA        0        +    106   \n",
       "716        -        106    503       AGAP003997-PB       88        +    262   \n",
       "715        -        106    435       AFAF019329-PA       14        +    262   \n",
       "714        -         99    393  TCOGS2:TC005606-PA       11        +    291   \n",
       "\n",
       "       bitscore  \n",
       "700  144.316791  \n",
       "717   58.425095  \n",
       "716  140.628191  \n",
       "715  140.628191  \n",
       "714  155.909535  "
      ]
     },
     "execution_count": 3,
     "metadata": {},
     "output_type": "execute_result"
    }
   ],
   "source": [
    "aln_df.sort_values('q_name').head()"
   ]
  },
  {
   "cell_type": "markdown",
   "metadata": {
    "slideshow": {
     "slide_type": "subslide"
    }
   },
   "source": [
    "---\n",
    "* Take the normalized alignment scores for each transcript and map them to their corresponding species\n",
    "* These will be leaf nodes\n",
    "* Then propogate these scores up the tree\n",
    "* Score for an internal node is  (sum of scores of its descendants) / (sum of branch lengths)\n",
    "    - Inspired by existing methods for calculating phylogenetic signal\n",
    "    - Caveat: my tree is actually a taxonomy, and all branch lengths are 1.\n",
    "* Do this for every transcript to get a score distribution for each node\n",
    "---"
   ]
  },
  {
   "cell_type": "markdown",
   "metadata": {
    "slideshow": {
     "slide_type": "subslide"
    }
   },
   "source": [
    "\n",
    "\n",
    "### <center> *Rhinella marina*, the cane toad </center>\n",
    "<center> ![example](Rhinella_marina.svg) </center>\n",
    "\n"
   ]
  },
  {
   "cell_type": "markdown",
   "metadata": {
    "collapsed": true,
    "slideshow": {
     "slide_type": "subslide"
    }
   },
   "source": [
    "### <center>*Seriola lalandi*, a ray-finned fish</center>\n",
    "<center> ![example](Seriola_lalandi.svg) </center>"
   ]
  },
  {
   "cell_type": "markdown",
   "metadata": {
    "slideshow": {
     "slide_type": "subslide"
    }
   },
   "source": [
    "### <center>The chickadee, a small bird / greatly diminshed dinosaur</center>\n",
    "<center>![example](chickadee.svg) </center>"
   ]
  },
  {
   "cell_type": "markdown",
   "metadata": {
    "slideshow": {
     "slide_type": "subslide"
    }
   },
   "source": [
    "### <center>*Crella elegans*, a sponge</center>\n",
    "<center>![example](Crella_elegans.svg) </center>"
   ]
  },
  {
   "cell_type": "markdown",
   "metadata": {
    "slideshow": {
     "slide_type": "subslide"
    }
   },
   "source": [
    "### <center>*Homaru americanus*, a lobster</center>\n",
    "<center>![example](Homaru_americanus.svg) </center>"
   ]
  },
  {
   "cell_type": "markdown",
   "metadata": {
    "slideshow": {
     "slide_type": "subslide"
    }
   },
   "source": [
    "### <center>species from *Pomacea*, group of freshwater snails</center>\n",
    "<center>![example](Pomacea.svg) </center>"
   ]
  },
  {
   "cell_type": "markdown",
   "metadata": {
    "slideshow": {
     "slide_type": "subslide"
    }
   },
   "source": [
    "### <center>A skink species in the genus *Carlia*</center>\n",
    "<center>![example](Carlia_N.svg) </center>"
   ]
  },
  {
   "cell_type": "markdown",
   "metadata": {
    "slideshow": {
     "slide_type": "subslide"
    }
   },
   "source": [
    "### <center>*Bactrocera tryona*, the queensland fruit fly</center>\n",
    "<center>![example](Bactrocera_tryona.svg) </center>"
   ]
  },
  {
   "cell_type": "markdown",
   "metadata": {
    "slideshow": {
     "slide_type": "subslide"
    }
   },
   "source": [
    "### <center>*Montastraea cavernosa*, a coral</center>\n",
    "<center>![example](Montastraea_cavernosa.svg) </center>"
   ]
  },
  {
   "cell_type": "markdown",
   "metadata": {
    "slideshow": {
     "slide_type": "subslide"
    }
   },
   "source": [
    "### <center>*Campylomormyrus compressirostris*, an electric fish</center>\n",
    "<center>![example](Campylomormyrus_compressirostris.svg) </center>"
   ]
  },
  {
   "cell_type": "markdown",
   "metadata": {
    "slideshow": {
     "slide_type": "subslide"
    }
   },
   "source": [
    "### <center>*Squalius pyrenaicus*, a freshwater fish</center>\n",
    "<center>![example](Squalius_pyrenaicus.svg) </center>"
   ]
  },
  {
   "cell_type": "markdown",
   "metadata": {
    "slideshow": {
     "slide_type": "subslide"
    }
   },
   "source": [
    "### <center>*Petromyzon marinus*, the sea lamprey</center>\n",
    "<center>![example](lamp10.svg) </center>"
   ]
  },
  {
   "cell_type": "markdown",
   "metadata": {
    "slideshow": {
     "slide_type": "slide"
    }
   },
   "source": [
    "---\n",
    "\n",
    "* The original plan included a complete annotation browser to be integrated with dammit\n",
    "* This was overambitious.\n",
    "    - Did a fair amount of work on it, but paused in favor of phylogenetic view\n",
    "* Integrating with existing software is more work than starting from scratch...\n",
    "\n",
    "---"
   ]
  }
 ],
 "metadata": {
  "celltoolbar": "Slideshow",
  "kernelspec": {
   "display_name": "Python 2",
   "language": "python",
   "name": "python2"
  },
  "language_info": {
   "codemirror_mode": {
    "name": "ipython",
    "version": 2
   },
   "file_extension": ".py",
   "mimetype": "text/x-python",
   "name": "python",
   "nbconvert_exporter": "python",
   "pygments_lexer": "ipython2",
   "version": "2.7.11"
  }
 },
 "nbformat": 4,
 "nbformat_minor": 0
}
